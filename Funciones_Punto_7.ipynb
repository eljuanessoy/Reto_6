{
  "nbformat": 4,
  "nbformat_minor": 0,
  "metadata": {
    "colab": {
      "provenance": [],
      "authorship_tag": "ABX9TyNWLIsd9rxIr3LRsOeTMk3+",
      "include_colab_link": true
    },
    "kernelspec": {
      "name": "python3",
      "display_name": "Python 3"
    },
    "language_info": {
      "name": "python"
    }
  },
  "cells": [
    {
      "cell_type": "markdown",
      "metadata": {
        "id": "view-in-github",
        "colab_type": "text"
      },
      "source": [
        "<a href=\"https://colab.research.google.com/github/eljuanessoy/Reto_6/blob/main/Funciones_Punto_7.ipynb\" target=\"_parent\"><img src=\"https://colab.research.google.com/assets/colab-badge.svg\" alt=\"Open In Colab\"/></a>"
      ]
    },
    {
      "cell_type": "code",
      "execution_count": null,
      "metadata": {
        "id": "VgTiKCFE_GKs"
      },
      "outputs": [],
      "source": [
        "def Promedio(a, b, c, d, e) -> float:\n",
        "    ResultadoPromedio = (a+b+c+d+e)/5\n",
        "    return ResultadoPromedio\n",
        "def PromedioMultiplicativo(a, b, c, d, e) -> float:\n",
        "    ResultadoPM = (a*b*c*d*e)**(1/5)\n",
        "    return ResultadoPM\n",
        "def OrdenAscendente(a, b, c, d, e) -> float:\n",
        "    ListaA = [a, b, c, d, e]\n",
        "    Ascendente = sorted(ListaA)\n",
        "    return Ascendente\n",
        "def OrdenDescendente(a, b, c, d, e) -> float:\n",
        "    ListaB = [a, b, c, d, e]\n",
        "    Descendente = sorted(ListaB, reverse = True)\n",
        "    return Descendente\n",
        "def Mediana(a, b, c, d, e) -> float:\n",
        "    ListaC = [a, b, c, d, e]\n",
        "    ListaCord = sorted(ListaC)\n",
        "    ListaClong = len(ListaC)\n",
        "    ResultadoMediana = ListaCord[ListaClong // 2]\n",
        "    return ResultadoMediana\n",
        "def Potencia(a, b, c, d, e) -> float:\n",
        "    ListaD = [a, b, c, d, e]\n",
        "    M = max(ListaD)\n",
        "    M = min(ListaD)\n",
        "    ResultadoPotencia = M**n\n",
        "    return ResultadoPotencia\n",
        "def RaizCubica(a, b, c, d, e) -> float:\n",
        "    ListaE = [a, b, c, d, e]\n",
        "    menor1 = min(ListaE)\n",
        "    ResultadoRaizCubica = menor1**(1/3)\n",
        "    return ResultadoRaizCubica"
      ]
    }
  ]
}