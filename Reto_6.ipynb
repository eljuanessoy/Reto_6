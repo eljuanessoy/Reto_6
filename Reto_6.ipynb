{
  "nbformat": 4,
  "nbformat_minor": 0,
  "metadata": {
    "colab": {
      "provenance": [],
      "authorship_tag": "ABX9TyP8davIOyLJsfSccdpJcl/g",
      "include_colab_link": true
    },
    "kernelspec": {
      "name": "python3",
      "display_name": "Python 3"
    },
    "language_info": {
      "name": "python"
    }
  },
  "cells": [
    {
      "cell_type": "markdown",
      "metadata": {
        "id": "view-in-github",
        "colab_type": "text"
      },
      "source": [
        "<a href=\"https://colab.research.google.com/github/eljuanessoy/Reto_6/blob/main/Reto_6.ipynb\" target=\"_parent\"><img src=\"https://colab.research.google.com/assets/colab-badge.svg\" alt=\"Open In Colab\"/></a>"
      ]
    },
    {
      "cell_type": "code",
      "source": [
        "import math\n",
        "pi = math.pi\n",
        "\n",
        "def Volumen(r1:float, r2:float, h:float):\n",
        "  ResultadoVolumen = ((4*pi*(r1**3))/3) + (((pi*(r2**2)*h))/3)\n",
        "  return ResultadoVolumen\n",
        "\n",
        "def AreaSuperficial(r1:float, r2:float, h:float):\n",
        "  ResultadoAreaSuperficial = (4*pi*(r1**2)) + (pi*r2*(math.sqrt((r2**2)+(h**2))))\n",
        "  return ResultadoAreaSuperficial\n",
        "\n",
        "if __name__ == \"__main__\":\n",
        "  r1 = float(input(\"Ingrese el valor del radio de la esfera: \"))\n",
        "  r2 = float(input(\"Ingrese el valor del radio del cono: \"))\n",
        "  h = float(input(\"Ingrese la altura del cono: \"))\n",
        "  VolumenFinal = Volumen(r1, r2, h)\n",
        "  AreaSuperficialFinal = AreaSuperficial(r1, r2, h)\n",
        "\n",
        "  print()\n",
        "  print(\"El volumen final es \" + str(VolumenFinal))\n",
        "  print(\"El area superficial final es \" + str(AreaSuperficialFinal))"
      ],
      "metadata": {
        "id": "1MsJ7wOygYWV"
      },
      "execution_count": null,
      "outputs": []
    },
    {
      "cell_type": "code",
      "source": [
        "import math\n",
        "pi = math.pi\n",
        "\n",
        "def Area(r:float, h:float, b:float):\n",
        "  ResultadoArea = (2*(pi*(r**2))) + (b*h)\n",
        "  return ResultadoArea\n",
        "\n",
        "def Perimetro(r:float, h:float, b:float):\n",
        "  ResultadoPerimetro = (2*pi*r) + (2*(b+h))\n",
        "  return ResultadoPerimetro\n",
        "\n",
        "if __name__ == \"__main__\":\n",
        "  r = float(input(\"Ingrese el valor del radio de los circulos: \"))\n",
        "  h = float(input(\"Ingrese el valor de la altura del rectangulo: \"))\n",
        "  b = float(input(\"Ingrese el valor de la base del rectangulo: \"))\n",
        "  AreaFinal = Area(r, h, b)\n",
        "  PerimetroFinal = Perimetro(r, h, b)\n",
        "\n",
        "  print()\n",
        "  print(\"El area final es \" + str(AreaFinal))\n",
        "  print(\"El perimetro final es \" + str(PerimetroFinal))"
      ],
      "metadata": {
        "id": "HfH-9PdqujEH"
      },
      "execution_count": null,
      "outputs": []
    },
    {
      "cell_type": "code",
      "source": [
        "def Carne(n:int, m:int, k:int):\n",
        "  TotalCarne = (6*n) + (7*m) + (k)\n",
        "  return TotalCarne\n",
        "\n",
        "if __name__ == \"__main__\":\n",
        "  n = int(input(\"Ingrese la cantidad de gallinas: \"))\n",
        "  m = int(input(\"Ingrese la cantidad de gallos: \"))\n",
        "  k = int(input(\"Ingrese la cantidad de pollos: \"))\n",
        "  TotaldeCarne = Carne(n, m, k)\n",
        "\n",
        "  print()\n",
        "  print(f\"El peso de la carne son {TotaldeCarne}kg\")"
      ],
      "metadata": {
        "id": "EMjs9LtgxkUd"
      },
      "execution_count": null,
      "outputs": []
    },
    {
      "cell_type": "code",
      "source": [
        "def Vueltas(p:int, l:int, h:int, B:int):\n",
        "  ValorTotal = (300*p) + (3300*l) + (350*h)\n",
        "  Cambio = B-ValorTotal\n",
        "  return Cambio\n",
        "\n",
        "if __name__ == \"__main__\":\n",
        "  p = int(input(\"Ingrese la cantidad de panes: \"))\n",
        "  l = int(input(\"Ingrese la cantidad de bolsas de leche: \"))\n",
        "  h = int(input(\"Ingrese la cantidad de huevos: \"))\n",
        "  B = int(input(\"Ingrese el valor del billete con el que va a pagar: \"))\n",
        "  LasVueltas = Vueltas(p, l, h, B)\n",
        "\n",
        "  print()\n",
        "  if LasVueltas>0:\n",
        "    print(\"El vendedor me debe dar $\" + str(LasVueltas))\n",
        "  if LasVueltas<0:\n",
        "    print(\"Le debo al vendedor $\" + str(LasVueltas))\n",
        "  elif LasVueltas == 0:\n",
        "    print(\"No debo ni me deben nada\")"
      ],
      "metadata": {
        "id": "yCParyS9zpDh"
      },
      "execution_count": null,
      "outputs": []
    },
    {
      "cell_type": "code",
      "source": [
        "def Prestamo(c:float, i:float, n:float):\n",
        "  Interes = i/12\n",
        "  TotalPrestamo = c*((1+Interes)**n)\n",
        "  return TotalPrestamo\n",
        "\n",
        "if __name__ == \"__main__\":\n",
        "  c = float(input(\"Ingrese el valor del prestamo: \"))\n",
        "  i = float(input(\"Ingrese el interés al año: \"))\n",
        "  n = float(input(\"Ingrese la cantidad de meses: \"))\n",
        "  IC = Prestamo(c, i, n)\n",
        "\n",
        "  print()\n",
        "  print(\"El interés compuesto es del prestamo es \" + str(IC))"
      ],
      "metadata": {
        "id": "5zpGkugZ3BVE"
      },
      "execution_count": null,
      "outputs": []
    },
    {
      "cell_type": "code",
      "source": [
        "def Contagios(x:int, n:int) -> int:\n",
        "  TotalContagios = n*(2**x)\n",
        "  return TotalContagios\n",
        "\n",
        "if __name__ == \"__main__\":\n",
        "  d = int(input(\"Ingrese el número de días: \"))\n",
        "  c = int(input(\"Ingrese la cantidad de personas contagiadas actualmente: \"))\n",
        "  TotaldeContagios = Contagios(d, c)\n",
        "\n",
        "  print()\n",
        "  print(f\"El total de personas contagiadas en NuncaLandia es de {TotaldeContagios} personas\")"
      ],
      "metadata": {
        "id": "TmdZfwkA5KhL"
      },
      "execution_count": null,
      "outputs": []
    },
    {
      "cell_type": "code",
      "source": [
        "def Promedio(a, b, c, d, e) -> float:\n",
        "    ResultadoPromedio = (a+b+c+d+e)/5\n",
        "    return ResultadoPromedio\n",
        "def PromedioMultiplicativo(a, b, c, d, e) -> float:\n",
        "    ResultadoPM = (a*b*c*d*e)**(1/5)\n",
        "    return ResultadoPM\n",
        "def OrdenAscendente(a, b, c, d, e) -> float:\n",
        "    ListaA = [a, b, c, d, e]\n",
        "    Ascendente = sorted(ListaA)\n",
        "    return Ascendente\n",
        "def OrdenDescendente(a, b, c, d, e) -> float:\n",
        "    ListaB = [a, b, c, d, e]\n",
        "    Descendente = sorted(ListaB, reverse = True)\n",
        "    return Descendente\n",
        "def Mediana(a, b, c, d, e) -> float:\n",
        "    ListaC = [a, b, c, d, e]\n",
        "    ListaCord = sorted(ListaC)\n",
        "    ListaClong = len(ListaC)\n",
        "    ResultadoMediana = ListaCord[ListaClong // 2]\n",
        "    return ResultadoMediana\n",
        "def Potencia(a, b, c, d, e) -> float:\n",
        "    ListaD = [a, b, c, d, e]\n",
        "    M = max(ListaD)\n",
        "    M = min(ListaD)\n",
        "    ResultadoPotencia = M**n\n",
        "    return ResultadoPotencia\n",
        "def RaizCubica(a, b, c, d, e) -> float:\n",
        "    ListaE = [a, b, c, d, e]\n",
        "    menor1 = min(ListaE)\n",
        "    ResultadoRaizCubica = menor1**(1/3)\n",
        "    return ResultadoRaizCubica\n",
        "\n",
        "if __name__ == \"__main__\":\n",
        "  a = float(input(\"Ingrese un número real: \"))\n",
        "  b = float(input(\"Ingrese un número real: \"))\n",
        "  c = float(input(\"Ingrese un número real: \"))\n",
        "  d = float(input(\"Ingrese un número real: \"))\n",
        "  e = float(input(\"Ingrese un número real: \"))\n",
        "  PromedioFinal = Promedio(a, b, c, d, e)\n",
        "  PMFinal = PromedioMultiplicativo(a, b, c, d, e)\n",
        "  OrdenA = OrdenAscendente(a, b, c, d, e)\n",
        "  OrdenB = OrdenDescendente(a, b, c, d, e)\n",
        "  MedianaFinal = Mediana(a, b, c, d, e)\n",
        "  PotenciaFinal = Potencia(a, b, c, d, e)\n",
        "  RaizCubicaFinal = RaizCubica(a, b, c, d, e)\n",
        "\n",
        "  print()\n",
        "  print(\"El promedio es \" +str(PromedioFinal))\n",
        "  print(\"El promedio multiplicatvo es \" +str(PMFinal))\n",
        "  print(\"Números ordenados en forma ascendente: \" +str(OrdenA))\n",
        "  print(\"Números ordenados en forma descendente: \" +str(OrdenB))\n",
        "  print(\"La mediana es el número \" +str(MedianaFinal))\n",
        "  print(\"La potencia del mayor número elevado al menor número es: \" +str(PotenciaFinal))\n",
        "  print(\"La raíz cúbica del menor número es: \" +str(RaizCubicaFinal))"
      ],
      "metadata": {
        "id": "u16vrbO47XtY"
      },
      "execution_count": null,
      "outputs": []
    }
  ]
}